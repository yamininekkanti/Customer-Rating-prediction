{
 "cells": [
  {
   "cell_type": "markdown",
   "metadata": {},
   "source": [
    "## Ecommerce customer segementation \n"
   ]
  },
  {
   "cell_type": "markdown",
   "metadata": {},
   "source": [
    "## 0) Setup\n",
    "\n",
    "### 0.a) Import packages\n"
   ]
  },
  {
   "cell_type": "code",
   "execution_count": 57,
   "metadata": {},
   "outputs": [],
   "source": [
    "import numpy as np\n",
    "import pandas as pd\n",
    "import seaborn as sb\n",
    "import matplotlib.pyplot as plt\n",
    "from scipy.stats import norm \n",
    "import os\n",
    "import dateutil\n",
    "import datetime as dt\n",
    "\n",
    "import math\n",
    "from sklearn.linear_model import LogisticRegression\n",
    "from sklearn.metrics import mean_squared_error\n",
    "from sklearn import preprocessing\n",
    "from sklearn.metrics import confusion_matrix\n",
    "\n",
    "from sklearn.ensemble import RandomForestClassifier\n",
    "\n",
    "import sklearn.cluster as cluster\n",
    "from sklearn.cluster import KMeans\n",
    "from sklearn.decomposition import PCA\n",
    "#from sklearn.mixture import GMM\n",
    "\n",
    "from sklearn.metrics import silhouette_samples, silhouette_score\n",
    "from scipy.cluster.hierarchy import fcluster\n",
    "from scipy.cluster.hierarchy import dendrogram, linkage"
   ]
  },
  {
   "cell_type": "code",
   "execution_count": 2,
   "metadata": {},
   "outputs": [],
   "source": [
    "from IPython.core.interactiveshell import InteractiveShell\n",
    "InteractiveShell.ast_node_interactivity = \"all\""
   ]
  },
  {
   "cell_type": "code",
   "execution_count": 3,
   "metadata": {},
   "outputs": [],
   "source": [
    "pd.set_option('display.max_rows', 500)\n",
    "pd.set_option('display.max_columns', 500)\n",
    "pd.set_option('display.width', 1000)"
   ]
  },
  {
   "cell_type": "code",
   "execution_count": 4,
   "metadata": {},
   "outputs": [],
   "source": [
    "import boto3, os, sagemaker\n",
    "from sagemaker import get_execution_role"
   ]
  },
  {
   "cell_type": "markdown",
   "metadata": {},
   "source": [
    "### 0.b) Get Amazon IAM execution role and instance region"
   ]
  },
  {
   "cell_type": "code",
   "execution_count": 5,
   "metadata": {},
   "outputs": [
    {
     "name": "stdout",
     "output_type": "stream",
     "text": [
      "Success - the SageMaker instance is in the us-west-2 region\n"
     ]
    }
   ],
   "source": [
    "# Define IAM role- this will be necessary when defining your model\n",
    "iam_role = get_execution_role()\n",
    "\n",
    "# set the region of the instance and get a reference to the client\n",
    "my_region = boto3.Session().region_name\n",
    "\n",
    "# sagemaker session handle\n",
    "sm_session = sagemaker.session.Session(boto3.Session())\n",
    "\n",
    "print(\"Success - the SageMaker instance is in the \" + my_region + \" region\")"
   ]
  },
  {
   "cell_type": "markdown",
   "metadata": {},
   "source": [
    "## 1) Load and examine data"
   ]
  },
  {
   "cell_type": "code",
   "execution_count": 8,
   "metadata": {},
   "outputs": [],
   "source": [
    "bucket = \"radybigdataproject\"\n",
    "prefix = \"ecommerce\""
   ]
  },
  {
   "cell_type": "code",
   "execution_count": 38,
   "metadata": {},
   "outputs": [],
   "source": [
    "dataset = pd.read_csv(\"s3://{}/{}/merged_training_dataset.zip\".format(bucket,prefix))"
   ]
  },
  {
   "cell_type": "code",
   "execution_count": 39,
   "metadata": {},
   "outputs": [
    {
     "name": "stdout",
     "output_type": "stream",
     "text": [
      "<class 'pandas.core.frame.DataFrame'>\n",
      "RangeIndex: 118315 entries, 0 to 118314\n",
      "Data columns (total 43 columns):\n",
      "order_id                         118315 non-null object\n",
      "customer_id                      118315 non-null object\n",
      "order_status                     118315 non-null object\n",
      "order_purchase_timestamp         118315 non-null object\n",
      "order_approved_at                118300 non-null object\n",
      "order_delivered_carrier_date     117061 non-null object\n",
      "order_delivered_customer_date    115727 non-null object\n",
      "order_estimated_delivery_date    118315 non-null object\n",
      "quantity                         118315 non-null int64\n",
      "product_id                       118315 non-null object\n",
      "seller_id                        118315 non-null object\n",
      "shipping_limit_date              118315 non-null object\n",
      "product_price                    118315 non-null float64\n",
      "freight_value                    118315 non-null float64\n",
      "payment_sequential               118315 non-null int64\n",
      "payment_type                     118315 non-null object\n",
      "payment_installments             118315 non-null int64\n",
      "payment_value                    118315 non-null float64\n",
      "product_name_lenght              116606 non-null float64\n",
      "product_description_lenght       116606 non-null float64\n",
      "product_photos_qty               116606 non-null float64\n",
      "product_weight_g                 118295 non-null float64\n",
      "product_length_cm                118295 non-null float64\n",
      "product_height_cm                118295 non-null float64\n",
      "product_width_cm                 118295 non-null float64\n",
      "product_category                 116581 non-null object\n",
      "review_id                        118315 non-null object\n",
      "review_score                     118315 non-null int64\n",
      "review_comment_title             14087 non-null object\n",
      "review_comment_message           50656 non-null object\n",
      "review_creation_date             118315 non-null object\n",
      "review_answer_timestamp          118315 non-null object\n",
      "seller_zip_code_prefix           118315 non-null int64\n",
      "seller_city                      118315 non-null object\n",
      "seller_state                     118315 non-null object\n",
      "seller_lat                       118050 non-null float64\n",
      "sellet_lng                       118050 non-null float64\n",
      "customer_unique_id               118315 non-null object\n",
      "customer_zip_code_prefix         118315 non-null int64\n",
      "customer_city                    118315 non-null object\n",
      "customer_state                   118315 non-null object\n",
      "customer_lat                     117998 non-null float64\n",
      "customer_lng                     117998 non-null float64\n",
      "dtypes: float64(14), int64(6), object(23)\n",
      "memory usage: 38.8+ MB\n"
     ]
    }
   ],
   "source": [
    "dataset.info()"
   ]
  },
  {
   "cell_type": "code",
   "execution_count": 40,
   "metadata": {},
   "outputs": [
    {
     "data": {
      "text/html": [
       "<div>\n",
       "<style scoped>\n",
       "    .dataframe tbody tr th:only-of-type {\n",
       "        vertical-align: middle;\n",
       "    }\n",
       "\n",
       "    .dataframe tbody tr th {\n",
       "        vertical-align: top;\n",
       "    }\n",
       "\n",
       "    .dataframe thead th {\n",
       "        text-align: right;\n",
       "    }\n",
       "</style>\n",
       "<table border=\"1\" class=\"dataframe\">\n",
       "  <thead>\n",
       "    <tr style=\"text-align: right;\">\n",
       "      <th></th>\n",
       "      <th>order_id</th>\n",
       "      <th>customer_id</th>\n",
       "      <th>order_status</th>\n",
       "      <th>order_purchase_timestamp</th>\n",
       "      <th>order_approved_at</th>\n",
       "      <th>order_delivered_carrier_date</th>\n",
       "      <th>order_delivered_customer_date</th>\n",
       "      <th>order_estimated_delivery_date</th>\n",
       "      <th>quantity</th>\n",
       "      <th>product_id</th>\n",
       "      <th>seller_id</th>\n",
       "      <th>shipping_limit_date</th>\n",
       "      <th>product_price</th>\n",
       "      <th>freight_value</th>\n",
       "      <th>payment_sequential</th>\n",
       "      <th>payment_type</th>\n",
       "      <th>payment_installments</th>\n",
       "      <th>payment_value</th>\n",
       "      <th>product_name_lenght</th>\n",
       "      <th>product_description_lenght</th>\n",
       "      <th>product_photos_qty</th>\n",
       "      <th>product_weight_g</th>\n",
       "      <th>product_length_cm</th>\n",
       "      <th>product_height_cm</th>\n",
       "      <th>product_width_cm</th>\n",
       "      <th>product_category</th>\n",
       "      <th>review_id</th>\n",
       "      <th>review_score</th>\n",
       "      <th>review_comment_title</th>\n",
       "      <th>review_comment_message</th>\n",
       "      <th>review_creation_date</th>\n",
       "      <th>review_answer_timestamp</th>\n",
       "      <th>seller_zip_code_prefix</th>\n",
       "      <th>seller_city</th>\n",
       "      <th>seller_state</th>\n",
       "      <th>seller_lat</th>\n",
       "      <th>sellet_lng</th>\n",
       "      <th>customer_unique_id</th>\n",
       "      <th>customer_zip_code_prefix</th>\n",
       "      <th>customer_city</th>\n",
       "      <th>customer_state</th>\n",
       "      <th>customer_lat</th>\n",
       "      <th>customer_lng</th>\n",
       "    </tr>\n",
       "  </thead>\n",
       "  <tbody>\n",
       "    <tr>\n",
       "      <th>0</th>\n",
       "      <td>00010242fe8c5a6d1ba2dd792cb16214</td>\n",
       "      <td>3ce436f183e68e07877b285a838db11a</td>\n",
       "      <td>delivered</td>\n",
       "      <td>2017-09-13T08:59:02Z</td>\n",
       "      <td>2017-09-13T09:45:35Z</td>\n",
       "      <td>2017-09-19T18:34:16Z</td>\n",
       "      <td>2017-09-20T23:43:48Z</td>\n",
       "      <td>2017-09-29T00:00:00Z</td>\n",
       "      <td>1</td>\n",
       "      <td>4244733e06e7ecb4970a6e2683c13e61</td>\n",
       "      <td>48436dade18ac8b2bce089ec2a041202</td>\n",
       "      <td>2017-09-19T09:45:35Z</td>\n",
       "      <td>58.90</td>\n",
       "      <td>13.29</td>\n",
       "      <td>1</td>\n",
       "      <td>credit_card</td>\n",
       "      <td>2</td>\n",
       "      <td>72.19</td>\n",
       "      <td>58.0</td>\n",
       "      <td>598.0</td>\n",
       "      <td>4.0</td>\n",
       "      <td>650.0</td>\n",
       "      <td>28.0</td>\n",
       "      <td>9.0</td>\n",
       "      <td>14.0</td>\n",
       "      <td>cool_stuff</td>\n",
       "      <td>97ca439bc427b48bc1cd7177abe71365</td>\n",
       "      <td>5</td>\n",
       "      <td>NaN</td>\n",
       "      <td>Perfeito, produto entregue antes do combinado.</td>\n",
       "      <td>2017-09-21T00:00:00Z</td>\n",
       "      <td>2017-09-22T10:57:03Z</td>\n",
       "      <td>27277</td>\n",
       "      <td>volta redonda</td>\n",
       "      <td>SP</td>\n",
       "      <td>-22.498183</td>\n",
       "      <td>-44.123614</td>\n",
       "      <td>871766c5855e863f6eccc05f988b23cb</td>\n",
       "      <td>28013</td>\n",
       "      <td>campos dos goytacazes</td>\n",
       "      <td>RJ</td>\n",
       "      <td>-21.758076</td>\n",
       "      <td>-41.312633</td>\n",
       "    </tr>\n",
       "    <tr>\n",
       "      <th>1</th>\n",
       "      <td>00018f77f2f0320c557190d7a144bdd3</td>\n",
       "      <td>f6dd3ec061db4e3987629fe6b26e5cce</td>\n",
       "      <td>delivered</td>\n",
       "      <td>2017-04-26T10:53:06Z</td>\n",
       "      <td>2017-04-26T11:05:13Z</td>\n",
       "      <td>2017-05-04T14:35:00Z</td>\n",
       "      <td>2017-05-12T16:04:24Z</td>\n",
       "      <td>2017-05-15T00:00:00Z</td>\n",
       "      <td>1</td>\n",
       "      <td>e5f2d52b802189ee658865ca93d83a8f</td>\n",
       "      <td>dd7ddc04e1b6c2c614352b383efe2d36</td>\n",
       "      <td>2017-05-03T11:05:13Z</td>\n",
       "      <td>239.90</td>\n",
       "      <td>19.93</td>\n",
       "      <td>1</td>\n",
       "      <td>credit_card</td>\n",
       "      <td>3</td>\n",
       "      <td>259.83</td>\n",
       "      <td>56.0</td>\n",
       "      <td>239.0</td>\n",
       "      <td>2.0</td>\n",
       "      <td>30000.0</td>\n",
       "      <td>50.0</td>\n",
       "      <td>30.0</td>\n",
       "      <td>40.0</td>\n",
       "      <td>pet_shop</td>\n",
       "      <td>7b07bacd811c4117b742569b04ce3580</td>\n",
       "      <td>4</td>\n",
       "      <td>NaN</td>\n",
       "      <td>NaN</td>\n",
       "      <td>2017-05-13T00:00:00Z</td>\n",
       "      <td>2017-05-15T11:34:13Z</td>\n",
       "      <td>3471</td>\n",
       "      <td>sao paulo</td>\n",
       "      <td>SP</td>\n",
       "      <td>-23.566258</td>\n",
       "      <td>-46.518417</td>\n",
       "      <td>eb28e67c4c0b83846050ddfb8a35d051</td>\n",
       "      <td>15775</td>\n",
       "      <td>santa fe do sul</td>\n",
       "      <td>SP</td>\n",
       "      <td>-20.212393</td>\n",
       "      <td>-50.941471</td>\n",
       "    </tr>\n",
       "    <tr>\n",
       "      <th>2</th>\n",
       "      <td>000229ec398224ef6ca0657da4fc703e</td>\n",
       "      <td>6489ae5e4333f3693df5ad4372dab6d3</td>\n",
       "      <td>delivered</td>\n",
       "      <td>2018-01-14T14:33:31Z</td>\n",
       "      <td>2018-01-14T14:48:30Z</td>\n",
       "      <td>2018-01-16T12:36:48Z</td>\n",
       "      <td>2018-01-22T13:19:16Z</td>\n",
       "      <td>2018-02-05T00:00:00Z</td>\n",
       "      <td>1</td>\n",
       "      <td>c777355d18b72b67abbeef9df44fd0fd</td>\n",
       "      <td>5b51032eddd242adc84c38acab88f23d</td>\n",
       "      <td>2018-01-18T14:48:30Z</td>\n",
       "      <td>199.00</td>\n",
       "      <td>17.87</td>\n",
       "      <td>1</td>\n",
       "      <td>credit_card</td>\n",
       "      <td>5</td>\n",
       "      <td>216.87</td>\n",
       "      <td>59.0</td>\n",
       "      <td>695.0</td>\n",
       "      <td>2.0</td>\n",
       "      <td>3050.0</td>\n",
       "      <td>33.0</td>\n",
       "      <td>13.0</td>\n",
       "      <td>33.0</td>\n",
       "      <td>furniture_decor</td>\n",
       "      <td>0c5b33dea94867d1ac402749e5438e8b</td>\n",
       "      <td>5</td>\n",
       "      <td>NaN</td>\n",
       "      <td>Chegou antes do prazo previsto e o produto sur...</td>\n",
       "      <td>2018-01-23T00:00:00Z</td>\n",
       "      <td>2018-01-23T16:06:31Z</td>\n",
       "      <td>37564</td>\n",
       "      <td>borda da mata</td>\n",
       "      <td>MG</td>\n",
       "      <td>-22.264094</td>\n",
       "      <td>-46.158564</td>\n",
       "      <td>3818d81c6709e39d06b2738a8d3a2474</td>\n",
       "      <td>35661</td>\n",
       "      <td>para de minas</td>\n",
       "      <td>MG</td>\n",
       "      <td>-19.860439</td>\n",
       "      <td>-44.597972</td>\n",
       "    </tr>\n",
       "    <tr>\n",
       "      <th>3</th>\n",
       "      <td>00024acbcdf0a6daa1e931b038114c75</td>\n",
       "      <td>d4eb9395c8c0431ee92fce09860c5a06</td>\n",
       "      <td>delivered</td>\n",
       "      <td>2018-08-08T10:00:35Z</td>\n",
       "      <td>2018-08-08T10:10:18Z</td>\n",
       "      <td>2018-08-10T13:28:00Z</td>\n",
       "      <td>2018-08-14T13:32:39Z</td>\n",
       "      <td>2018-08-20T00:00:00Z</td>\n",
       "      <td>1</td>\n",
       "      <td>7634da152a4610f1595efa32f14722fc</td>\n",
       "      <td>9d7a1d34a5052409006425275ba1c2b4</td>\n",
       "      <td>2018-08-15T10:10:18Z</td>\n",
       "      <td>12.99</td>\n",
       "      <td>12.79</td>\n",
       "      <td>1</td>\n",
       "      <td>credit_card</td>\n",
       "      <td>2</td>\n",
       "      <td>25.78</td>\n",
       "      <td>42.0</td>\n",
       "      <td>480.0</td>\n",
       "      <td>1.0</td>\n",
       "      <td>200.0</td>\n",
       "      <td>16.0</td>\n",
       "      <td>10.0</td>\n",
       "      <td>15.0</td>\n",
       "      <td>perfumery</td>\n",
       "      <td>f4028d019cb58564807486a6aaf33817</td>\n",
       "      <td>4</td>\n",
       "      <td>NaN</td>\n",
       "      <td>NaN</td>\n",
       "      <td>2018-08-15T00:00:00Z</td>\n",
       "      <td>2018-08-15T16:39:01Z</td>\n",
       "      <td>14403</td>\n",
       "      <td>franca</td>\n",
       "      <td>SP</td>\n",
       "      <td>-20.548228</td>\n",
       "      <td>-47.395897</td>\n",
       "      <td>af861d436cfc08b2c2ddefd0ba074622</td>\n",
       "      <td>12952</td>\n",
       "      <td>atibaia</td>\n",
       "      <td>SP</td>\n",
       "      <td>-23.144923</td>\n",
       "      <td>-46.539830</td>\n",
       "    </tr>\n",
       "    <tr>\n",
       "      <th>4</th>\n",
       "      <td>00042b26cf59d7ce69dfabb4e55b4fd9</td>\n",
       "      <td>58dbd0b2d70206bf40e62cd34e84d795</td>\n",
       "      <td>delivered</td>\n",
       "      <td>2017-02-04T13:57:51Z</td>\n",
       "      <td>2017-02-04T14:10:13Z</td>\n",
       "      <td>2017-02-16T09:46:09Z</td>\n",
       "      <td>2017-03-01T16:42:31Z</td>\n",
       "      <td>2017-03-17T00:00:00Z</td>\n",
       "      <td>1</td>\n",
       "      <td>ac6c3623068f30de03045865e4e10089</td>\n",
       "      <td>df560393f3a51e74553ab94004ba5c87</td>\n",
       "      <td>2017-02-13T13:57:51Z</td>\n",
       "      <td>199.90</td>\n",
       "      <td>18.14</td>\n",
       "      <td>1</td>\n",
       "      <td>credit_card</td>\n",
       "      <td>3</td>\n",
       "      <td>218.04</td>\n",
       "      <td>59.0</td>\n",
       "      <td>409.0</td>\n",
       "      <td>1.0</td>\n",
       "      <td>3750.0</td>\n",
       "      <td>35.0</td>\n",
       "      <td>40.0</td>\n",
       "      <td>30.0</td>\n",
       "      <td>garden_tools</td>\n",
       "      <td>940144190dcba6351888cafa43f3a3a5</td>\n",
       "      <td>5</td>\n",
       "      <td>NaN</td>\n",
       "      <td>Gostei pois veio no prazo determinado .</td>\n",
       "      <td>2017-03-02T00:00:00Z</td>\n",
       "      <td>2017-03-03T10:54:59Z</td>\n",
       "      <td>87900</td>\n",
       "      <td>loanda</td>\n",
       "      <td>PR</td>\n",
       "      <td>-22.931427</td>\n",
       "      <td>-53.133759</td>\n",
       "      <td>64b576fb70d441e8f1b2d7d446e483c5</td>\n",
       "      <td>13226</td>\n",
       "      <td>varzea paulista</td>\n",
       "      <td>SP</td>\n",
       "      <td>-23.249008</td>\n",
       "      <td>-46.824961</td>\n",
       "    </tr>\n",
       "    <tr>\n",
       "      <th>5</th>\n",
       "      <td>00048cc3ae777c65dbb7d2a0634bc1ea</td>\n",
       "      <td>816cbea969fe5b689b39cfc97a506742</td>\n",
       "      <td>delivered</td>\n",
       "      <td>2017-05-15T21:42:34Z</td>\n",
       "      <td>2017-05-17T03:55:27Z</td>\n",
       "      <td>2017-05-17T11:05:55Z</td>\n",
       "      <td>2017-05-22T13:44:35Z</td>\n",
       "      <td>2017-06-06T00:00:00Z</td>\n",
       "      <td>1</td>\n",
       "      <td>ef92defde845ab8450f9d70c526ef70f</td>\n",
       "      <td>6426d21aca402a131fc0a5d0960a3c90</td>\n",
       "      <td>2017-05-23T03:55:27Z</td>\n",
       "      <td>21.90</td>\n",
       "      <td>12.69</td>\n",
       "      <td>1</td>\n",
       "      <td>boleto</td>\n",
       "      <td>1</td>\n",
       "      <td>34.59</td>\n",
       "      <td>36.0</td>\n",
       "      <td>558.0</td>\n",
       "      <td>1.0</td>\n",
       "      <td>450.0</td>\n",
       "      <td>24.0</td>\n",
       "      <td>8.0</td>\n",
       "      <td>15.0</td>\n",
       "      <td>housewares</td>\n",
       "      <td>5e4e50af3b7960b7a10d86ec869509e8</td>\n",
       "      <td>4</td>\n",
       "      <td>NaN</td>\n",
       "      <td>NaN</td>\n",
       "      <td>2017-05-23T00:00:00Z</td>\n",
       "      <td>2017-05-24T19:00:09Z</td>\n",
       "      <td>14091</td>\n",
       "      <td>ribeirao preto</td>\n",
       "      <td>SP</td>\n",
       "      <td>-21.189402</td>\n",
       "      <td>-47.792956</td>\n",
       "      <td>85c835d128beae5b4ce8602c491bf385</td>\n",
       "      <td>38017</td>\n",
       "      <td>uberaba</td>\n",
       "      <td>MG</td>\n",
       "      <td>-19.741323</td>\n",
       "      <td>-47.924115</td>\n",
       "    </tr>\n",
       "    <tr>\n",
       "      <th>6</th>\n",
       "      <td>00054e8431b9d7675808bcb819fb4a32</td>\n",
       "      <td>32e2e6ab09e778d99bf2e0ecd4898718</td>\n",
       "      <td>delivered</td>\n",
       "      <td>2017-12-10T11:53:48Z</td>\n",
       "      <td>2017-12-10T12:10:31Z</td>\n",
       "      <td>2017-12-12T01:07:48Z</td>\n",
       "      <td>2017-12-18T22:03:38Z</td>\n",
       "      <td>2018-01-04T00:00:00Z</td>\n",
       "      <td>1</td>\n",
       "      <td>8d4f2bb7e93e6710a28f34fa83ee7d28</td>\n",
       "      <td>7040e82f899a04d1b434b795a43b4617</td>\n",
       "      <td>2017-12-14T12:10:31Z</td>\n",
       "      <td>19.90</td>\n",
       "      <td>11.85</td>\n",
       "      <td>1</td>\n",
       "      <td>credit_card</td>\n",
       "      <td>1</td>\n",
       "      <td>31.75</td>\n",
       "      <td>52.0</td>\n",
       "      <td>815.0</td>\n",
       "      <td>1.0</td>\n",
       "      <td>200.0</td>\n",
       "      <td>27.0</td>\n",
       "      <td>5.0</td>\n",
       "      <td>20.0</td>\n",
       "      <td>telephony</td>\n",
       "      <td>0381de7572d99d75230ce91207807265</td>\n",
       "      <td>4</td>\n",
       "      <td>NaN</td>\n",
       "      <td>NaN</td>\n",
       "      <td>2017-12-19T00:00:00Z</td>\n",
       "      <td>2017-12-29T02:40:12Z</td>\n",
       "      <td>1026</td>\n",
       "      <td>sao paulo</td>\n",
       "      <td>SP</td>\n",
       "      <td>-23.539495</td>\n",
       "      <td>-46.632844</td>\n",
       "      <td>635d9ac1680f03288e72ada3a1035803</td>\n",
       "      <td>16700</td>\n",
       "      <td>guararapes</td>\n",
       "      <td>SP</td>\n",
       "      <td>-21.267754</td>\n",
       "      <td>-50.650688</td>\n",
       "    </tr>\n",
       "    <tr>\n",
       "      <th>7</th>\n",
       "      <td>000576fe39319847cbb9d288c5617fa6</td>\n",
       "      <td>9ed5e522dd9dd85b4af4a077526d8117</td>\n",
       "      <td>delivered</td>\n",
       "      <td>2018-07-04T12:08:27Z</td>\n",
       "      <td>2018-07-05T16:35:48Z</td>\n",
       "      <td>2018-07-05T12:15:00Z</td>\n",
       "      <td>2018-07-09T14:04:07Z</td>\n",
       "      <td>2018-07-25T00:00:00Z</td>\n",
       "      <td>1</td>\n",
       "      <td>557d850972a7d6f792fd18ae1400d9b6</td>\n",
       "      <td>5996cddab893a4652a15592fb58ab8db</td>\n",
       "      <td>2018-07-10T12:30:45Z</td>\n",
       "      <td>810.00</td>\n",
       "      <td>70.75</td>\n",
       "      <td>1</td>\n",
       "      <td>credit_card</td>\n",
       "      <td>10</td>\n",
       "      <td>880.75</td>\n",
       "      <td>39.0</td>\n",
       "      <td>1310.0</td>\n",
       "      <td>3.0</td>\n",
       "      <td>13805.0</td>\n",
       "      <td>35.0</td>\n",
       "      <td>75.0</td>\n",
       "      <td>45.0</td>\n",
       "      <td>garden_tools</td>\n",
       "      <td>f0733ebeb51b637dfdc953983c867b89</td>\n",
       "      <td>5</td>\n",
       "      <td>NaN</td>\n",
       "      <td>NaN</td>\n",
       "      <td>2018-07-10T00:00:00Z</td>\n",
       "      <td>2018-07-11T20:14:25Z</td>\n",
       "      <td>19010</td>\n",
       "      <td>presidente prudente</td>\n",
       "      <td>SP</td>\n",
       "      <td>-22.119778</td>\n",
       "      <td>-51.381675</td>\n",
       "      <td>fda4476abb6307ab3c415b7e6d026526</td>\n",
       "      <td>11702</td>\n",
       "      <td>praia grande</td>\n",
       "      <td>SP</td>\n",
       "      <td>-24.017041</td>\n",
       "      <td>-46.442917</td>\n",
       "    </tr>\n",
       "    <tr>\n",
       "      <th>8</th>\n",
       "      <td>0005a1a1728c9d785b8e2b08b904576c</td>\n",
       "      <td>16150771dfd4776261284213b89c304e</td>\n",
       "      <td>delivered</td>\n",
       "      <td>2018-03-19T18:40:33Z</td>\n",
       "      <td>2018-03-20T18:35:21Z</td>\n",
       "      <td>2018-03-28T00:37:42Z</td>\n",
       "      <td>2018-03-29T18:17:31Z</td>\n",
       "      <td>2018-03-29T00:00:00Z</td>\n",
       "      <td>1</td>\n",
       "      <td>310ae3c140ff94b03219ad0adc3c778f</td>\n",
       "      <td>a416b6a846a11724393025641d4edd5e</td>\n",
       "      <td>2018-03-26T18:31:29Z</td>\n",
       "      <td>145.95</td>\n",
       "      <td>11.65</td>\n",
       "      <td>1</td>\n",
       "      <td>credit_card</td>\n",
       "      <td>3</td>\n",
       "      <td>157.60</td>\n",
       "      <td>59.0</td>\n",
       "      <td>493.0</td>\n",
       "      <td>1.0</td>\n",
       "      <td>2000.0</td>\n",
       "      <td>30.0</td>\n",
       "      <td>12.0</td>\n",
       "      <td>16.0</td>\n",
       "      <td>health_beauty</td>\n",
       "      <td>67b1ab8f3ec19d5a90f153f21757d3a1</td>\n",
       "      <td>1</td>\n",
       "      <td>NaN</td>\n",
       "      <td>Na descrição do produto quando fui efetuar a c...</td>\n",
       "      <td>2018-03-30T00:00:00Z</td>\n",
       "      <td>2018-04-02T00:52:01Z</td>\n",
       "      <td>3702</td>\n",
       "      <td>sao paulo</td>\n",
       "      <td>SP</td>\n",
       "      <td>-23.516747</td>\n",
       "      <td>-46.548182</td>\n",
       "      <td>639d23421f5517f69d0c3d6e6564cf0e</td>\n",
       "      <td>11075</td>\n",
       "      <td>santos</td>\n",
       "      <td>SP</td>\n",
       "      <td>-23.944502</td>\n",
       "      <td>-46.331243</td>\n",
       "    </tr>\n",
       "    <tr>\n",
       "      <th>9</th>\n",
       "      <td>0005f50442cb953dcd1d21e1fb923495</td>\n",
       "      <td>351d3cb2cee3c7fd0af6616c82df21d3</td>\n",
       "      <td>delivered</td>\n",
       "      <td>2018-07-02T13:59:39Z</td>\n",
       "      <td>2018-07-02T14:10:56Z</td>\n",
       "      <td>2018-07-03T14:25:00Z</td>\n",
       "      <td>2018-07-04T17:28:31Z</td>\n",
       "      <td>2018-07-23T00:00:00Z</td>\n",
       "      <td>1</td>\n",
       "      <td>4535b0e1091c278dfd193e5a1d63b39f</td>\n",
       "      <td>ba143b05f0110f0dc71ad71b4466ce92</td>\n",
       "      <td>2018-07-06T14:10:56Z</td>\n",
       "      <td>53.99</td>\n",
       "      <td>11.40</td>\n",
       "      <td>1</td>\n",
       "      <td>credit_card</td>\n",
       "      <td>1</td>\n",
       "      <td>65.39</td>\n",
       "      <td>52.0</td>\n",
       "      <td>1192.0</td>\n",
       "      <td>1.0</td>\n",
       "      <td>850.0</td>\n",
       "      <td>29.0</td>\n",
       "      <td>3.0</td>\n",
       "      <td>21.0</td>\n",
       "      <td>books_technical</td>\n",
       "      <td>5c0b7e34ed85ec659bb064902d878e7a</td>\n",
       "      <td>4</td>\n",
       "      <td>NaN</td>\n",
       "      <td>NaN</td>\n",
       "      <td>2018-07-05T00:00:00Z</td>\n",
       "      <td>2018-07-05T23:17:04Z</td>\n",
       "      <td>2274</td>\n",
       "      <td>sao paulo</td>\n",
       "      <td>SP</td>\n",
       "      <td>-23.468244</td>\n",
       "      <td>-46.585031</td>\n",
       "      <td>0782c41380992a5a533489063df0eef6</td>\n",
       "      <td>6636</td>\n",
       "      <td>jandira</td>\n",
       "      <td>SP</td>\n",
       "      <td>-23.555662</td>\n",
       "      <td>-46.895958</td>\n",
       "    </tr>\n",
       "  </tbody>\n",
       "</table>\n",
       "</div>"
      ],
      "text/plain": [
       "                           order_id                       customer_id order_status order_purchase_timestamp     order_approved_at order_delivered_carrier_date order_delivered_customer_date order_estimated_delivery_date  quantity                        product_id                         seller_id   shipping_limit_date  product_price  freight_value  payment_sequential payment_type  payment_installments  payment_value  product_name_lenght  product_description_lenght  product_photos_qty  product_weight_g  product_length_cm  product_height_cm  product_width_cm product_category                         review_id  review_score review_comment_title                             review_comment_message  review_creation_date review_answer_timestamp  seller_zip_code_prefix          seller_city seller_state  seller_lat  sellet_lng                customer_unique_id  customer_zip_code_prefix          customer_city customer_state  customer_lat  customer_lng\n",
       "0  00010242fe8c5a6d1ba2dd792cb16214  3ce436f183e68e07877b285a838db11a    delivered     2017-09-13T08:59:02Z  2017-09-13T09:45:35Z         2017-09-19T18:34:16Z          2017-09-20T23:43:48Z          2017-09-29T00:00:00Z         1  4244733e06e7ecb4970a6e2683c13e61  48436dade18ac8b2bce089ec2a041202  2017-09-19T09:45:35Z          58.90          13.29                   1  credit_card                     2          72.19                 58.0                       598.0                 4.0             650.0               28.0                9.0              14.0       cool_stuff  97ca439bc427b48bc1cd7177abe71365             5                  NaN     Perfeito, produto entregue antes do combinado.  2017-09-21T00:00:00Z    2017-09-22T10:57:03Z                   27277        volta redonda           SP  -22.498183  -44.123614  871766c5855e863f6eccc05f988b23cb                     28013  campos dos goytacazes             RJ    -21.758076    -41.312633\n",
       "1  00018f77f2f0320c557190d7a144bdd3  f6dd3ec061db4e3987629fe6b26e5cce    delivered     2017-04-26T10:53:06Z  2017-04-26T11:05:13Z         2017-05-04T14:35:00Z          2017-05-12T16:04:24Z          2017-05-15T00:00:00Z         1  e5f2d52b802189ee658865ca93d83a8f  dd7ddc04e1b6c2c614352b383efe2d36  2017-05-03T11:05:13Z         239.90          19.93                   1  credit_card                     3         259.83                 56.0                       239.0                 2.0           30000.0               50.0               30.0              40.0         pet_shop  7b07bacd811c4117b742569b04ce3580             4                  NaN                                                NaN  2017-05-13T00:00:00Z    2017-05-15T11:34:13Z                    3471            sao paulo           SP  -23.566258  -46.518417  eb28e67c4c0b83846050ddfb8a35d051                     15775        santa fe do sul             SP    -20.212393    -50.941471\n",
       "2  000229ec398224ef6ca0657da4fc703e  6489ae5e4333f3693df5ad4372dab6d3    delivered     2018-01-14T14:33:31Z  2018-01-14T14:48:30Z         2018-01-16T12:36:48Z          2018-01-22T13:19:16Z          2018-02-05T00:00:00Z         1  c777355d18b72b67abbeef9df44fd0fd  5b51032eddd242adc84c38acab88f23d  2018-01-18T14:48:30Z         199.00          17.87                   1  credit_card                     5         216.87                 59.0                       695.0                 2.0            3050.0               33.0               13.0              33.0  furniture_decor  0c5b33dea94867d1ac402749e5438e8b             5                  NaN  Chegou antes do prazo previsto e o produto sur...  2018-01-23T00:00:00Z    2018-01-23T16:06:31Z                   37564        borda da mata           MG  -22.264094  -46.158564  3818d81c6709e39d06b2738a8d3a2474                     35661          para de minas             MG    -19.860439    -44.597972\n",
       "3  00024acbcdf0a6daa1e931b038114c75  d4eb9395c8c0431ee92fce09860c5a06    delivered     2018-08-08T10:00:35Z  2018-08-08T10:10:18Z         2018-08-10T13:28:00Z          2018-08-14T13:32:39Z          2018-08-20T00:00:00Z         1  7634da152a4610f1595efa32f14722fc  9d7a1d34a5052409006425275ba1c2b4  2018-08-15T10:10:18Z          12.99          12.79                   1  credit_card                     2          25.78                 42.0                       480.0                 1.0             200.0               16.0               10.0              15.0        perfumery  f4028d019cb58564807486a6aaf33817             4                  NaN                                                NaN  2018-08-15T00:00:00Z    2018-08-15T16:39:01Z                   14403               franca           SP  -20.548228  -47.395897  af861d436cfc08b2c2ddefd0ba074622                     12952                atibaia             SP    -23.144923    -46.539830\n",
       "4  00042b26cf59d7ce69dfabb4e55b4fd9  58dbd0b2d70206bf40e62cd34e84d795    delivered     2017-02-04T13:57:51Z  2017-02-04T14:10:13Z         2017-02-16T09:46:09Z          2017-03-01T16:42:31Z          2017-03-17T00:00:00Z         1  ac6c3623068f30de03045865e4e10089  df560393f3a51e74553ab94004ba5c87  2017-02-13T13:57:51Z         199.90          18.14                   1  credit_card                     3         218.04                 59.0                       409.0                 1.0            3750.0               35.0               40.0              30.0     garden_tools  940144190dcba6351888cafa43f3a3a5             5                  NaN            Gostei pois veio no prazo determinado .  2017-03-02T00:00:00Z    2017-03-03T10:54:59Z                   87900               loanda           PR  -22.931427  -53.133759  64b576fb70d441e8f1b2d7d446e483c5                     13226        varzea paulista             SP    -23.249008    -46.824961\n",
       "5  00048cc3ae777c65dbb7d2a0634bc1ea  816cbea969fe5b689b39cfc97a506742    delivered     2017-05-15T21:42:34Z  2017-05-17T03:55:27Z         2017-05-17T11:05:55Z          2017-05-22T13:44:35Z          2017-06-06T00:00:00Z         1  ef92defde845ab8450f9d70c526ef70f  6426d21aca402a131fc0a5d0960a3c90  2017-05-23T03:55:27Z          21.90          12.69                   1       boleto                     1          34.59                 36.0                       558.0                 1.0             450.0               24.0                8.0              15.0       housewares  5e4e50af3b7960b7a10d86ec869509e8             4                  NaN                                                NaN  2017-05-23T00:00:00Z    2017-05-24T19:00:09Z                   14091       ribeirao preto           SP  -21.189402  -47.792956  85c835d128beae5b4ce8602c491bf385                     38017                uberaba             MG    -19.741323    -47.924115\n",
       "6  00054e8431b9d7675808bcb819fb4a32  32e2e6ab09e778d99bf2e0ecd4898718    delivered     2017-12-10T11:53:48Z  2017-12-10T12:10:31Z         2017-12-12T01:07:48Z          2017-12-18T22:03:38Z          2018-01-04T00:00:00Z         1  8d4f2bb7e93e6710a28f34fa83ee7d28  7040e82f899a04d1b434b795a43b4617  2017-12-14T12:10:31Z          19.90          11.85                   1  credit_card                     1          31.75                 52.0                       815.0                 1.0             200.0               27.0                5.0              20.0        telephony  0381de7572d99d75230ce91207807265             4                  NaN                                                NaN  2017-12-19T00:00:00Z    2017-12-29T02:40:12Z                    1026            sao paulo           SP  -23.539495  -46.632844  635d9ac1680f03288e72ada3a1035803                     16700             guararapes             SP    -21.267754    -50.650688\n",
       "7  000576fe39319847cbb9d288c5617fa6  9ed5e522dd9dd85b4af4a077526d8117    delivered     2018-07-04T12:08:27Z  2018-07-05T16:35:48Z         2018-07-05T12:15:00Z          2018-07-09T14:04:07Z          2018-07-25T00:00:00Z         1  557d850972a7d6f792fd18ae1400d9b6  5996cddab893a4652a15592fb58ab8db  2018-07-10T12:30:45Z         810.00          70.75                   1  credit_card                    10         880.75                 39.0                      1310.0                 3.0           13805.0               35.0               75.0              45.0     garden_tools  f0733ebeb51b637dfdc953983c867b89             5                  NaN                                                NaN  2018-07-10T00:00:00Z    2018-07-11T20:14:25Z                   19010  presidente prudente           SP  -22.119778  -51.381675  fda4476abb6307ab3c415b7e6d026526                     11702           praia grande             SP    -24.017041    -46.442917\n",
       "8  0005a1a1728c9d785b8e2b08b904576c  16150771dfd4776261284213b89c304e    delivered     2018-03-19T18:40:33Z  2018-03-20T18:35:21Z         2018-03-28T00:37:42Z          2018-03-29T18:17:31Z          2018-03-29T00:00:00Z         1  310ae3c140ff94b03219ad0adc3c778f  a416b6a846a11724393025641d4edd5e  2018-03-26T18:31:29Z         145.95          11.65                   1  credit_card                     3         157.60                 59.0                       493.0                 1.0            2000.0               30.0               12.0              16.0    health_beauty  67b1ab8f3ec19d5a90f153f21757d3a1             1                  NaN  Na descrição do produto quando fui efetuar a c...  2018-03-30T00:00:00Z    2018-04-02T00:52:01Z                    3702            sao paulo           SP  -23.516747  -46.548182  639d23421f5517f69d0c3d6e6564cf0e                     11075                 santos             SP    -23.944502    -46.331243\n",
       "9  0005f50442cb953dcd1d21e1fb923495  351d3cb2cee3c7fd0af6616c82df21d3    delivered     2018-07-02T13:59:39Z  2018-07-02T14:10:56Z         2018-07-03T14:25:00Z          2018-07-04T17:28:31Z          2018-07-23T00:00:00Z         1  4535b0e1091c278dfd193e5a1d63b39f  ba143b05f0110f0dc71ad71b4466ce92  2018-07-06T14:10:56Z          53.99          11.40                   1  credit_card                     1          65.39                 52.0                      1192.0                 1.0             850.0               29.0                3.0              21.0  books_technical  5c0b7e34ed85ec659bb064902d878e7a             4                  NaN                                                NaN  2018-07-05T00:00:00Z    2018-07-05T23:17:04Z                    2274            sao paulo           SP  -23.468244  -46.585031  0782c41380992a5a533489063df0eef6                      6636                jandira             SP    -23.555662    -46.895958"
      ]
     },
     "execution_count": 40,
     "metadata": {},
     "output_type": "execute_result"
    }
   ],
   "source": [
    "dataset.head(10)"
   ]
  },
  {
   "cell_type": "code",
   "execution_count": 41,
   "metadata": {},
   "outputs": [
    {
     "data": {
      "text/plain": [
       "118315"
      ]
     },
     "execution_count": 41,
     "metadata": {},
     "output_type": "execute_result"
    }
   ],
   "source": [
    "len(dataset)"
   ]
  },
  {
   "cell_type": "markdown",
   "metadata": {},
   "source": [
    "## 2) cleaning the dataset"
   ]
  },
  {
   "cell_type": "code",
   "execution_count": 42,
   "metadata": {},
   "outputs": [
    {
     "data": {
      "text/plain": [
       "2587"
      ]
     },
     "execution_count": 42,
     "metadata": {},
     "output_type": "execute_result"
    }
   ],
   "source": [
    "# canceled orders ( separate analysis on this)\n",
    "cancelled_orders = dataset[dataset['order_status'] != 'delivered']\n",
    "len(cancelled_orders)"
   ]
  },
  {
   "cell_type": "code",
   "execution_count": 43,
   "metadata": {},
   "outputs": [
    {
     "data": {
      "text/plain": [
       "113494"
      ]
     },
     "execution_count": 43,
     "metadata": {},
     "output_type": "execute_result"
    }
   ],
   "source": [
    "dataset.dropna(subset=[ 'order_delivered_customer_date', 'order_delivered_carrier_date', 'order_approved_at', 'seller_lat', 'customer_lat', 'product_category'],inplace=True)\n",
    "len(dataset)"
   ]
  },
  {
   "cell_type": "code",
   "execution_count": 44,
   "metadata": {},
   "outputs": [],
   "source": [
    "dataset= dataset[dataset['order_status'] == 'delivered']\n"
   ]
  },
  {
   "cell_type": "code",
   "execution_count": 45,
   "metadata": {},
   "outputs": [
    {
     "data": {
      "text/plain": [
       "113487"
      ]
     },
     "execution_count": 45,
     "metadata": {},
     "output_type": "execute_result"
    }
   ],
   "source": [
    "len(dataset)"
   ]
  },
  {
   "cell_type": "code",
   "execution_count": 46,
   "metadata": {},
   "outputs": [],
   "source": [
    "# converting into date time objects\n",
    "\n",
    "dataset.order_purchase_timestamp = pd.to_datetime(dataset.order_purchase_timestamp)\n",
    "#dataset.order_aproved_at = pd.to_datetime(dataset.order_aproved_at)\n",
    "dataset.order_estimated_delivery_date = pd.to_datetime(dataset.order_estimated_delivery_date)\n",
    "dataset.order_delivered_customer_date = pd.to_datetime(dataset.order_delivered_customer_date)\n",
    "dataset.review_creation_date = pd.to_datetime(dataset.review_creation_date)\n",
    "dataset.review_answer_timestamp = pd.to_datetime(dataset.review_answer_timestamp)\n",
    "dataset.product_category.replace(['None', 'NaN', np.nan], \"NIL\", inplace=True)"
   ]
  },
  {
   "cell_type": "markdown",
   "metadata": {},
   "source": [
    "## 3) Exploratory analysis"
   ]
  },
  {
   "cell_type": "code",
   "execution_count": 56,
   "metadata": {},
   "outputs": [
    {
     "data": {
      "text/html": [
       "<div>\n",
       "<style scoped>\n",
       "    .dataframe tbody tr th:only-of-type {\n",
       "        vertical-align: middle;\n",
       "    }\n",
       "\n",
       "    .dataframe tbody tr th {\n",
       "        vertical-align: top;\n",
       "    }\n",
       "\n",
       "    .dataframe thead th {\n",
       "        text-align: right;\n",
       "    }\n",
       "</style>\n",
       "<table border=\"1\" class=\"dataframe\">\n",
       "  <thead>\n",
       "    <tr style=\"text-align: right;\">\n",
       "      <th></th>\n",
       "      <th>quantity</th>\n",
       "      <th>product_price</th>\n",
       "      <th>freight_value</th>\n",
       "      <th>payment_sequential</th>\n",
       "      <th>payment_installments</th>\n",
       "      <th>payment_value</th>\n",
       "      <th>product_name_lenght</th>\n",
       "      <th>product_description_lenght</th>\n",
       "      <th>product_photos_qty</th>\n",
       "      <th>product_weight_g</th>\n",
       "      <th>product_length_cm</th>\n",
       "      <th>product_height_cm</th>\n",
       "      <th>product_width_cm</th>\n",
       "      <th>review_score</th>\n",
       "      <th>seller_zip_code_prefix</th>\n",
       "      <th>seller_lat</th>\n",
       "      <th>sellet_lng</th>\n",
       "      <th>customer_zip_code_prefix</th>\n",
       "      <th>customer_lat</th>\n",
       "      <th>customer_lng</th>\n",
       "    </tr>\n",
       "  </thead>\n",
       "  <tbody>\n",
       "    <tr>\n",
       "      <th>count</th>\n",
       "      <td>113487.000000</td>\n",
       "      <td>113487.000000</td>\n",
       "      <td>113487.000000</td>\n",
       "      <td>113487.000000</td>\n",
       "      <td>113487.000000</td>\n",
       "      <td>113487.000000</td>\n",
       "      <td>113487.000000</td>\n",
       "      <td>113487.000000</td>\n",
       "      <td>113487.000000</td>\n",
       "      <td>113486.000000</td>\n",
       "      <td>113486.000000</td>\n",
       "      <td>113486.000000</td>\n",
       "      <td>113486.000000</td>\n",
       "      <td>113487.000000</td>\n",
       "      <td>113487.000000</td>\n",
       "      <td>113487.000000</td>\n",
       "      <td>113487.000000</td>\n",
       "      <td>113487.000000</td>\n",
       "      <td>113487.000000</td>\n",
       "      <td>113487.000000</td>\n",
       "    </tr>\n",
       "    <tr>\n",
       "      <th>mean</th>\n",
       "      <td>1.197758</td>\n",
       "      <td>120.039303</td>\n",
       "      <td>20.002700</td>\n",
       "      <td>1.090821</td>\n",
       "      <td>2.944857</td>\n",
       "      <td>172.194814</td>\n",
       "      <td>48.788998</td>\n",
       "      <td>784.854115</td>\n",
       "      <td>2.201239</td>\n",
       "      <td>2106.807298</td>\n",
       "      <td>30.283374</td>\n",
       "      <td>16.626112</td>\n",
       "      <td>23.096250</td>\n",
       "      <td>4.067056</td>\n",
       "      <td>24524.990281</td>\n",
       "      <td>-22.795858</td>\n",
       "      <td>-47.250479</td>\n",
       "      <td>35005.137478</td>\n",
       "      <td>-21.240403</td>\n",
       "      <td>-46.200271</td>\n",
       "    </tr>\n",
       "    <tr>\n",
       "      <th>std</th>\n",
       "      <td>0.704158</td>\n",
       "      <td>182.630517</td>\n",
       "      <td>15.740806</td>\n",
       "      <td>0.686121</td>\n",
       "      <td>2.780795</td>\n",
       "      <td>266.534302</td>\n",
       "      <td>10.020362</td>\n",
       "      <td>651.237507</td>\n",
       "      <td>1.713381</td>\n",
       "      <td>3763.313942</td>\n",
       "      <td>16.151381</td>\n",
       "      <td>13.450834</td>\n",
       "      <td>11.715415</td>\n",
       "      <td>1.357977</td>\n",
       "      <td>27649.347240</td>\n",
       "      <td>2.704538</td>\n",
       "      <td>2.346095</td>\n",
       "      <td>29837.754352</td>\n",
       "      <td>5.566872</td>\n",
       "      <td>4.046999</td>\n",
       "    </tr>\n",
       "    <tr>\n",
       "      <th>min</th>\n",
       "      <td>1.000000</td>\n",
       "      <td>0.850000</td>\n",
       "      <td>0.000000</td>\n",
       "      <td>1.000000</td>\n",
       "      <td>0.000000</td>\n",
       "      <td>0.000000</td>\n",
       "      <td>5.000000</td>\n",
       "      <td>4.000000</td>\n",
       "      <td>1.000000</td>\n",
       "      <td>0.000000</td>\n",
       "      <td>7.000000</td>\n",
       "      <td>2.000000</td>\n",
       "      <td>6.000000</td>\n",
       "      <td>1.000000</td>\n",
       "      <td>1001.000000</td>\n",
       "      <td>-36.605374</td>\n",
       "      <td>-64.283946</td>\n",
       "      <td>1003.000000</td>\n",
       "      <td>-36.605374</td>\n",
       "      <td>-72.666706</td>\n",
       "    </tr>\n",
       "    <tr>\n",
       "      <th>25%</th>\n",
       "      <td>1.000000</td>\n",
       "      <td>39.900000</td>\n",
       "      <td>13.080000</td>\n",
       "      <td>1.000000</td>\n",
       "      <td>1.000000</td>\n",
       "      <td>60.860000</td>\n",
       "      <td>42.000000</td>\n",
       "      <td>345.000000</td>\n",
       "      <td>1.000000</td>\n",
       "      <td>300.000000</td>\n",
       "      <td>18.000000</td>\n",
       "      <td>8.000000</td>\n",
       "      <td>15.000000</td>\n",
       "      <td>4.000000</td>\n",
       "      <td>6429.000000</td>\n",
       "      <td>-23.611872</td>\n",
       "      <td>-48.831547</td>\n",
       "      <td>11250.000000</td>\n",
       "      <td>-23.590582</td>\n",
       "      <td>-48.110471</td>\n",
       "    </tr>\n",
       "    <tr>\n",
       "      <th>50%</th>\n",
       "      <td>1.000000</td>\n",
       "      <td>74.900000</td>\n",
       "      <td>16.310000</td>\n",
       "      <td>1.000000</td>\n",
       "      <td>2.000000</td>\n",
       "      <td>108.000000</td>\n",
       "      <td>52.000000</td>\n",
       "      <td>600.000000</td>\n",
       "      <td>1.000000</td>\n",
       "      <td>700.000000</td>\n",
       "      <td>25.000000</td>\n",
       "      <td>13.000000</td>\n",
       "      <td>20.000000</td>\n",
       "      <td>5.000000</td>\n",
       "      <td>13720.000000</td>\n",
       "      <td>-23.420739</td>\n",
       "      <td>-46.755211</td>\n",
       "      <td>24240.000000</td>\n",
       "      <td>-22.929319</td>\n",
       "      <td>-46.632051</td>\n",
       "    </tr>\n",
       "    <tr>\n",
       "      <th>75%</th>\n",
       "      <td>1.000000</td>\n",
       "      <td>133.000000</td>\n",
       "      <td>21.190000</td>\n",
       "      <td>1.000000</td>\n",
       "      <td>4.000000</td>\n",
       "      <td>189.370000</td>\n",
       "      <td>57.000000</td>\n",
       "      <td>982.000000</td>\n",
       "      <td>3.000000</td>\n",
       "      <td>1800.000000</td>\n",
       "      <td>38.000000</td>\n",
       "      <td>20.000000</td>\n",
       "      <td>30.000000</td>\n",
       "      <td>5.000000</td>\n",
       "      <td>27930.000000</td>\n",
       "      <td>-21.766477</td>\n",
       "      <td>-46.518082</td>\n",
       "      <td>58345.000000</td>\n",
       "      <td>-20.199173</td>\n",
       "      <td>-43.630620</td>\n",
       "    </tr>\n",
       "    <tr>\n",
       "      <th>max</th>\n",
       "      <td>21.000000</td>\n",
       "      <td>6735.000000</td>\n",
       "      <td>409.680000</td>\n",
       "      <td>26.000000</td>\n",
       "      <td>24.000000</td>\n",
       "      <td>13664.080000</td>\n",
       "      <td>76.000000</td>\n",
       "      <td>3992.000000</td>\n",
       "      <td>20.000000</td>\n",
       "      <td>40425.000000</td>\n",
       "      <td>105.000000</td>\n",
       "      <td>105.000000</td>\n",
       "      <td>118.000000</td>\n",
       "      <td>5.000000</td>\n",
       "      <td>99730.000000</td>\n",
       "      <td>-2.546079</td>\n",
       "      <td>-34.847856</td>\n",
       "      <td>99980.000000</td>\n",
       "      <td>42.184003</td>\n",
       "      <td>-8.577855</td>\n",
       "    </tr>\n",
       "  </tbody>\n",
       "</table>\n",
       "</div>"
      ],
      "text/plain": [
       "            quantity  product_price  freight_value  payment_sequential  payment_installments  payment_value  product_name_lenght  product_description_lenght  product_photos_qty  product_weight_g  product_length_cm  product_height_cm  product_width_cm   review_score  seller_zip_code_prefix     seller_lat     sellet_lng  customer_zip_code_prefix   customer_lat   customer_lng\n",
       "count  113487.000000  113487.000000  113487.000000       113487.000000         113487.000000  113487.000000        113487.000000               113487.000000       113487.000000     113486.000000      113486.000000      113486.000000     113486.000000  113487.000000           113487.000000  113487.000000  113487.000000             113487.000000  113487.000000  113487.000000\n",
       "mean        1.197758     120.039303      20.002700            1.090821              2.944857     172.194814            48.788998                  784.854115            2.201239       2106.807298          30.283374          16.626112         23.096250       4.067056            24524.990281     -22.795858     -47.250479              35005.137478     -21.240403     -46.200271\n",
       "std         0.704158     182.630517      15.740806            0.686121              2.780795     266.534302            10.020362                  651.237507            1.713381       3763.313942          16.151381          13.450834         11.715415       1.357977            27649.347240       2.704538       2.346095              29837.754352       5.566872       4.046999\n",
       "min         1.000000       0.850000       0.000000            1.000000              0.000000       0.000000             5.000000                    4.000000            1.000000          0.000000           7.000000           2.000000          6.000000       1.000000             1001.000000     -36.605374     -64.283946               1003.000000     -36.605374     -72.666706\n",
       "25%         1.000000      39.900000      13.080000            1.000000              1.000000      60.860000            42.000000                  345.000000            1.000000        300.000000          18.000000           8.000000         15.000000       4.000000             6429.000000     -23.611872     -48.831547              11250.000000     -23.590582     -48.110471\n",
       "50%         1.000000      74.900000      16.310000            1.000000              2.000000     108.000000            52.000000                  600.000000            1.000000        700.000000          25.000000          13.000000         20.000000       5.000000            13720.000000     -23.420739     -46.755211              24240.000000     -22.929319     -46.632051\n",
       "75%         1.000000     133.000000      21.190000            1.000000              4.000000     189.370000            57.000000                  982.000000            3.000000       1800.000000          38.000000          20.000000         30.000000       5.000000            27930.000000     -21.766477     -46.518082              58345.000000     -20.199173     -43.630620\n",
       "max        21.000000    6735.000000     409.680000           26.000000             24.000000   13664.080000            76.000000                 3992.000000           20.000000      40425.000000         105.000000         105.000000        118.000000       5.000000            99730.000000      -2.546079     -34.847856              99980.000000      42.184003      -8.577855"
      ]
     },
     "execution_count": 56,
     "metadata": {},
     "output_type": "execute_result"
    }
   ],
   "source": [
    "# initialstatistics\n",
    "dataset.describe()"
   ]
  },
  {
   "cell_type": "code",
   "execution_count": 48,
   "metadata": {},
   "outputs": [],
   "source": [
    "# distribution of payments\n",
    "payment_type = dataset.groupby('payment_type')[['payment_value', 'review_score']].agg({'review_score': ['mean'], 'payment_value':['sum','count']})"
   ]
  },
  {
   "cell_type": "code",
   "execution_count": 49,
   "metadata": {},
   "outputs": [
    {
     "data": {
      "text/html": [
       "<div>\n",
       "<style scoped>\n",
       "    .dataframe tbody tr th:only-of-type {\n",
       "        vertical-align: middle;\n",
       "    }\n",
       "\n",
       "    .dataframe tbody tr th {\n",
       "        vertical-align: top;\n",
       "    }\n",
       "\n",
       "    .dataframe thead tr th {\n",
       "        text-align: left;\n",
       "    }\n",
       "\n",
       "    .dataframe thead tr:last-of-type th {\n",
       "        text-align: right;\n",
       "    }\n",
       "</style>\n",
       "<table border=\"1\" class=\"dataframe\">\n",
       "  <thead>\n",
       "    <tr>\n",
       "      <th></th>\n",
       "      <th>review_score</th>\n",
       "      <th colspan=\"2\" halign=\"left\">payment_value</th>\n",
       "    </tr>\n",
       "    <tr>\n",
       "      <th></th>\n",
       "      <th>mean</th>\n",
       "      <th>sum</th>\n",
       "      <th>count</th>\n",
       "    </tr>\n",
       "    <tr>\n",
       "      <th>payment_type</th>\n",
       "      <th></th>\n",
       "      <th></th>\n",
       "      <th></th>\n",
       "    </tr>\n",
       "  </thead>\n",
       "  <tbody>\n",
       "    <tr>\n",
       "      <th>boleto</th>\n",
       "      <td>4.060443</td>\n",
       "      <td>3.892891e+06</td>\n",
       "      <td>22087</td>\n",
       "    </tr>\n",
       "    <tr>\n",
       "      <th>credit_card</th>\n",
       "      <td>4.068030</td>\n",
       "      <td>1.501601e+07</td>\n",
       "      <td>83728</td>\n",
       "    </tr>\n",
       "    <tr>\n",
       "      <th>debit_card</th>\n",
       "      <td>4.200615</td>\n",
       "      <td>2.423457e+05</td>\n",
       "      <td>1625</td>\n",
       "    </tr>\n",
       "    <tr>\n",
       "      <th>voucher</th>\n",
       "      <td>4.041839</td>\n",
       "      <td>3.906217e+05</td>\n",
       "      <td>6047</td>\n",
       "    </tr>\n",
       "  </tbody>\n",
       "</table>\n",
       "</div>"
      ],
      "text/plain": [
       "             review_score payment_value       \n",
       "                     mean           sum  count\n",
       "payment_type                                  \n",
       "boleto           4.060443  3.892891e+06  22087\n",
       "credit_card      4.068030  1.501601e+07  83728\n",
       "debit_card       4.200615  2.423457e+05   1625\n",
       "voucher          4.041839  3.906217e+05   6047"
      ]
     },
     "execution_count": 49,
     "metadata": {},
     "output_type": "execute_result"
    }
   ],
   "source": [
    "payment_type"
   ]
  },
  {
   "cell_type": "code",
   "execution_count": 58,
   "metadata": {},
   "outputs": [],
   "source": [
    "## customer order by month\n",
    "dataset['customer_order_month'] = pd.DatetimeIndex(dataset['order_purchase_timestamp']).month\n",
    "month_type = dataset.groupby('customer_order_month')[['payment_value', 'review_score']].agg({'review_score': ['mean'], 'payment_value':['sum','count']})"
   ]
  },
  {
   "cell_type": "code",
   "execution_count": 59,
   "metadata": {},
   "outputs": [
    {
     "data": {
      "text/plain": [
       "<matplotlib.axes._subplots.AxesSubplot at 0x7f1cfe6d1f60>"
      ]
     },
     "execution_count": 59,
     "metadata": {},
     "output_type": "execute_result"
    },
    {
     "data": {
      "image/png": "[encoded data removed]",
      "text/plain": [
       "<Figure size 864x792 with 1 Axes>"
      ]
     },
     "metadata": {},
     "output_type": "display_data"
    }
   ],
   "source": [
    "mp=month_type.plot(kind='barh', figsize=(12,11),logx=True)\n",
    "mp"
   ]
  },
  {
   "cell_type": "code",
   "execution_count": 63,
   "metadata": {},
   "outputs": [
    {
     "data": {
      "text/plain": [
       "<Figure size 288x288 with 0 Axes>"
      ]
     },
     "execution_count": 63,
     "metadata": {},
     "output_type": "execute_result"
    },
    {
     "data": {
      "text/plain": [
       "<matplotlib.axes._subplots.AxesSubplot at 0x7f1d015536d8>"
      ]
     },
     "execution_count": 63,
     "metadata": {},
     "output_type": "execute_result"
    },
    {
     "data": {
      "image/png": "[encoded data removed]",
      "text/plain": [
       "<Figure size 288x288 with 1 Axes>"
      ]
     },
     "metadata": {},
     "output_type": "display_data"
    }
   ],
   "source": [
    "## review score distribution\n",
    "review_scores=dataset.groupby('review_score').aggregate({'order_id':'count'}).rename(columns={'order_id':'count'}).sort_values(by='count',ascending=False).reset_index()\n",
    "plt.figure(figsize=(4,4))\n",
    "plt.title('Review score distribution')\n",
    "sb.barplot(x=review_scores['review_score'],y=review_scores['count'],color=\"grey\")"
   ]
  },
  {
   "cell_type": "code",
   "execution_count": 64,
   "metadata": {},
   "outputs": [
    {
     "data": {
      "text/plain": [
       "<Figure size 1008x1008 with 0 Axes>"
      ]
     },
     "execution_count": 64,
     "metadata": {},
     "output_type": "execute_result"
    },
    {
     "data": {
      "text/plain": [
       "Text(0.5, 1.0, 'Review score distribution Category wise')"
      ]
     },
     "execution_count": 64,
     "metadata": {},
     "output_type": "execute_result"
    },
    {
     "data": {
      "image/png": "[encoded data removed]",
      "text/plain": [
       "<Figure size 1008x1008 with 1 Axes>"
      ]
     },
     "metadata": {},
     "output_type": "display_data"
    }
   ],
   "source": [
    "## By category review score\n",
    "product_category=dataset.groupby('product_category')[['order_id', 'review_score']].agg({'review_score': ['mean'],'order_id':['count']}).sort_values(by=('review_score','mean'), ascending=False).reset_index()\n",
    "plt.figure(figsize=(14,14))\n",
    "plt.title('Review score distribution Category wise')\n",
    "f=sb.barplot(x=product_category['order_id']['count'],y=product_category['product_category'],color=\"grey\")"
   ]
  },
  {
   "cell_type": "code",
   "execution_count": 65,
   "metadata": {},
   "outputs": [
    {
     "data": {
      "text/plain": [
       "<Figure size 720x360 with 0 Axes>"
      ]
     },
     "execution_count": 65,
     "metadata": {},
     "output_type": "execute_result"
    },
    {
     "data": {
      "text/plain": [
       "Text(0.5, 1.0, 'Customers Per State')"
      ]
     },
     "execution_count": 65,
     "metadata": {},
     "output_type": "execute_result"
    },
    {
     "data": {
      "text/plain": [
       "<matplotlib.axes._subplots.AxesSubplot at 0x7f1cfccb5e80>"
      ]
     },
     "execution_count": 65,
     "metadata": {},
     "output_type": "execute_result"
    },
    {
     "data": {
      "image/png": "[encoded data removed]",
      "text/plain": [
       "<Figure size 720x360 with 1 Axes>"
      ]
     },
     "metadata": {},
     "output_type": "display_data"
    }
   ],
   "source": [
    "# customers per state\n",
    "plt.figure(figsize=(10,5))\n",
    "plt.title('Customers Per State')\n",
    "sb.barplot(x=dataset['customer_state'].value_counts().index,y=dataset['customer_state'].value_counts().values)"
   ]
  },
  {
   "cell_type": "code",
   "execution_count": 67,
   "metadata": {},
   "outputs": [
    {
     "data": {
      "text/plain": [
       "<Figure size 720x360 with 0 Axes>"
      ]
     },
     "execution_count": 67,
     "metadata": {},
     "output_type": "execute_result"
    },
    {
     "data": {
      "text/plain": [
       "Text(0.5, 1.0, 'Sellers Per State')"
      ]
     },
     "execution_count": 67,
     "metadata": {},
     "output_type": "execute_result"
    },
    {
     "data": {
      "text/plain": [
       "<matplotlib.axes._subplots.AxesSubplot at 0x7f1cff880c88>"
      ]
     },
     "execution_count": 67,
     "metadata": {},
     "output_type": "execute_result"
    },
    {
     "data": {
      "image/png": "[encoded data removed]",
      "text/plain": [
       "<Figure size 720x360 with 1 Axes>"
      ]
     },
     "metadata": {},
     "output_type": "display_data"
    }
   ],
   "source": [
    "## sellers per state\n",
    "plt.figure(figsize=(10,5))\n",
    "plt.title('Sellers Per State')\n",
    "sb.barplot(x=dataset['seller_state'].value_counts().index,y=dataset['seller_state'].value_counts().values)"
   ]
  },
  {
   "cell_type": "code",
   "execution_count": 69,
   "metadata": {},
   "outputs": [],
   "source": [
    "# orders by year\n",
    "dataset['year']=dataset['order_purchase_timestamp'].dt.year\n",
    "dataset['month']=dataset['order_purchase_timestamp'].dt.month\n",
    "total_orders_2017 = dataset[dataset['year']== 2017].groupby(['month']).size().reset_index(name='total_orders')\n",
    "total_orders_2018 = dataset[dataset['year']== 2018].groupby(['month']).size().reset_index(name='total_orders')\n",
    "total_orders_2016 = dataset[dataset['year']== 2016].groupby(['month']).size().reset_index(name='total_orders')"
   ]
  },
  {
   "cell_type": "code",
   "execution_count": 76,
   "metadata": {},
   "outputs": [
    {
     "data": {
      "text/plain": [
       "<Figure size 720x360 with 0 Axes>"
      ]
     },
     "execution_count": 76,
     "metadata": {},
     "output_type": "execute_result"
    },
    {
     "data": {
      "text/plain": [
       "Text(0.5, 1.0, 'Orders by month in 2017')"
      ]
     },
     "execution_count": 76,
     "metadata": {},
     "output_type": "execute_result"
    },
    {
     "data": {
      "text/plain": [
       "<matplotlib.axes._subplots.AxesSubplot at 0x7f1d200c8080>"
      ]
     },
     "execution_count": 76,
     "metadata": {},
     "output_type": "execute_result"
    },
    {
     "data": {
      "image/png": "[encoded data removed]",
      "text/plain": [
       "<Figure size 720x360 with 1 Axes>"
      ]
     },
     "metadata": {},
     "output_type": "display_data"
    }
   ],
   "source": [
    "plt.figure(figsize=(10,5))\n",
    "plt.title('Orders by month in 2017')\n",
    "sb.barplot(x=total_orders_2017['month'],y=total_orders_2017['total_orders'],color=\"grey\")\n"
   ]
  },
  {
   "cell_type": "code",
   "execution_count": 77,
   "metadata": {},
   "outputs": [
    {
     "data": {
      "text/plain": [
       "<Figure size 720x360 with 0 Axes>"
      ]
     },
     "execution_count": 77,
     "metadata": {},
     "output_type": "execute_result"
    },
    {
     "data": {
      "text/plain": [
       "Text(0.5, 1.0, 'Orders by month in 2018')"
      ]
     },
     "execution_count": 77,
     "metadata": {},
     "output_type": "execute_result"
    },
    {
     "data": {
      "text/plain": [
       "<matplotlib.axes._subplots.AxesSubplot at 0x7f1d1bbe2160>"
      ]
     },
     "execution_count": 77,
     "metadata": {},
     "output_type": "execute_result"
    },
    {
     "data": {
      "image/png": "[encoded data removed]",
      "text/plain": [
       "<Figure size 720x360 with 1 Axes>"
      ]
     },
     "metadata": {},
     "output_type": "display_data"
    }
   ],
   "source": [
    "plt.figure(figsize=(10,5))\n",
    "plt.title('Orders by month in 2018')\n",
    "sb.barplot(x=total_orders_2018['month'],y=total_orders_2017['total_orders'],color=\"grey\")\n"
   ]
  },
  {
   "cell_type": "code",
   "execution_count": 75,
   "metadata": {},
   "outputs": [
    {
     "data": {
      "text/plain": [
       "<Figure size 360x360 with 0 Axes>"
      ]
     },
     "execution_count": 75,
     "metadata": {},
     "output_type": "execute_result"
    },
    {
     "data": {
      "text/plain": [
       "Text(0.5, 1.0, 'Orders by month in 2016')"
      ]
     },
     "execution_count": 75,
     "metadata": {},
     "output_type": "execute_result"
    },
    {
     "data": {
      "text/plain": [
       "<matplotlib.axes._subplots.AxesSubplot at 0x7f1d200b1978>"
      ]
     },
     "execution_count": 75,
     "metadata": {},
     "output_type": "execute_result"
    },
    {
     "data": {
      "image/png": "[encoded data removed]",
      "text/plain": [
       "<Figure size 360x360 with 1 Axes>"
      ]
     },
     "metadata": {},
     "output_type": "display_data"
    }
   ],
   "source": [
    "plt.figure(figsize=(5,5))\n",
    "plt.title('Orders by month in 2016')\n",
    "sb.barplot(x=total_orders_2016['month'],y=total_orders_2017['total_orders'], color=\"grey\")\n"
   ]
  },
  {
   "cell_type": "code",
   "execution_count": 54,
   "metadata": {},
   "outputs": [
    {
     "name": "stdout",
     "output_type": "stream",
     "text": [
      "<class 'pandas.core.frame.DataFrame'>\n",
      "Int64Index: 113487 entries, 0 to 118314\n",
      "Data columns (total 13 columns):\n",
      "quantity                      113487 non-null int64\n",
      "product_price                 113487 non-null float64\n",
      "freight_value                 113487 non-null float64\n",
      "product_description_lenght    113487 non-null float64\n",
      "product_weight_g              113486 non-null float64\n",
      "payment_installments          113487 non-null int64\n",
      "product_name_lenght           113487 non-null float64\n",
      "product_photos_qty            113487 non-null float64\n",
      "product_length_cm             113486 non-null float64\n",
      "product_height_cm             113486 non-null float64\n",
      "product_width_cm              113486 non-null float64\n",
      "payment_value                 113487 non-null float64\n",
      "review_score                  113487 non-null int64\n",
      "dtypes: float64(10), int64(3)\n",
      "memory usage: 17.1 MB\n"
     ]
    }
   ],
   "source": [
    "## correlation matrix\n",
    "cor_df = dataset[['quantity','product_price', 'freight_value', 'product_description_lenght','product_weight_g','payment_installments', 'product_name_lenght','product_photos_qty','product_length_cm', 'product_height_cm', 'product_width_cm','payment_value', 'review_score']]\n",
    "cor_df.info()"
   ]
  },
  {
   "cell_type": "code",
   "execution_count": 66,
   "metadata": {},
   "outputs": [
    {
     "data": {
      "text/plain": [
       "<Figure size 720x720 with 0 Axes>"
      ]
     },
     "execution_count": 66,
     "metadata": {},
     "output_type": "execute_result"
    },
    {
     "data": {
      "text/plain": [
       "Text(0.5, 1.0, 'Correlation matrix')"
      ]
     },
     "execution_count": 66,
     "metadata": {},
     "output_type": "execute_result"
    },
    {
     "data": {
      "text/plain": [
       "<matplotlib.axes._subplots.AxesSubplot at 0x7f1cfdb25208>"
      ]
     },
     "execution_count": 66,
     "metadata": {},
     "output_type": "execute_result"
    },
    {
     "data": {
      "image/png": "[encoded data removed]",
      "text/plain": [
       "<Figure size 720x720 with 2 Axes>"
      ]
     },
     "metadata": {},
     "output_type": "display_data"
    }
   ],
   "source": [
    "cor = cor_df.corr()\n",
    "plt.figure(figsize=(10,10))\n",
    "plt.title('Correlation matrix')\n",
    "sb.heatmap(cor, annot=True, fmt=\".2g\",linewidths=0.4,cmap=\"YlGnBu\",cbar_kws={\"shrink\": .5})"
   ]
  },
  {
   "cell_type": "markdown",
   "metadata": {},
   "source": [
    "## 4.a) create new varaibles (R,F,M)--- Taking R,F,M as numbers"
   ]
  },
  {
   "cell_type": "code",
   "execution_count": 78,
   "metadata": {},
   "outputs": [],
   "source": [
    "## creating recency scores\n",
    "recency_scores = dataset.groupby('customer_unique_id').order_purchase_timestamp.max().reset_index()\n",
    "recency_scores.columns = ['customer_unique_id', 'MaxPurchaseDate']\n",
    "recency_scores['Recency'] = (recency_scores['MaxPurchaseDate'].max() - recency_scores['MaxPurchaseDate']).dt.days\n",
    "   "
   ]
  },
  {
   "cell_type": "code",
   "execution_count": 79,
   "metadata": {},
   "outputs": [
    {
     "data": {
      "text/html": [
       "<div>\n",
       "<style scoped>\n",
       "    .dataframe tbody tr th:only-of-type {\n",
       "        vertical-align: middle;\n",
       "    }\n",
       "\n",
       "    .dataframe tbody tr th {\n",
       "        vertical-align: top;\n",
       "    }\n",
       "\n",
       "    .dataframe thead th {\n",
       "        text-align: right;\n",
       "    }\n",
       "</style>\n",
       "<table border=\"1\" class=\"dataframe\">\n",
       "  <thead>\n",
       "    <tr style=\"text-align: right;\">\n",
       "      <th></th>\n",
       "      <th>customer_unique_id</th>\n",
       "      <th>MaxPurchaseDate</th>\n",
       "      <th>Recency</th>\n",
       "    </tr>\n",
       "  </thead>\n",
       "  <tbody>\n",
       "    <tr>\n",
       "      <th>0</th>\n",
       "      <td>0000366f3b9a7992bf8c76cfdf3221e2</td>\n",
       "      <td>2018-05-10 10:56:27+00:00</td>\n",
       "      <td>111</td>\n",
       "    </tr>\n",
       "    <tr>\n",
       "      <th>1</th>\n",
       "      <td>0000b849f77a49e4a4ce2b2a4ca5be3f</td>\n",
       "      <td>2018-05-07 11:11:27+00:00</td>\n",
       "      <td>114</td>\n",
       "    </tr>\n",
       "    <tr>\n",
       "      <th>2</th>\n",
       "      <td>0000f46a3911fa3c0805444483337064</td>\n",
       "      <td>2017-03-10 21:05:03+00:00</td>\n",
       "      <td>536</td>\n",
       "    </tr>\n",
       "    <tr>\n",
       "      <th>3</th>\n",
       "      <td>0000f6ccb0745a6a4b88665a16c9f078</td>\n",
       "      <td>2017-10-12 20:29:41+00:00</td>\n",
       "      <td>320</td>\n",
       "    </tr>\n",
       "    <tr>\n",
       "      <th>4</th>\n",
       "      <td>0004aac84e0df4da2b147fca70cf8255</td>\n",
       "      <td>2017-11-14 19:45:42+00:00</td>\n",
       "      <td>287</td>\n",
       "    </tr>\n",
       "  </tbody>\n",
       "</table>\n",
       "</div>"
      ],
      "text/plain": [
       "                 customer_unique_id           MaxPurchaseDate  Recency\n",
       "0  0000366f3b9a7992bf8c76cfdf3221e2 2018-05-10 10:56:27+00:00      111\n",
       "1  0000b849f77a49e4a4ce2b2a4ca5be3f 2018-05-07 11:11:27+00:00      114\n",
       "2  0000f46a3911fa3c0805444483337064 2017-03-10 21:05:03+00:00      536\n",
       "3  0000f6ccb0745a6a4b88665a16c9f078 2017-10-12 20:29:41+00:00      320\n",
       "4  0004aac84e0df4da2b147fca70cf8255 2017-11-14 19:45:42+00:00      287"
      ]
     },
     "execution_count": 79,
     "metadata": {},
     "output_type": "execute_result"
    }
   ],
   "source": [
    "recency_scores.head()"
   ]
  },
  {
   "cell_type": "code",
   "execution_count": 81,
   "metadata": {},
   "outputs": [],
   "source": [
    "## creating frequency scores\n",
    "frequency_scores = dataset.groupby('customer_unique_id').order_purchase_timestamp.count().reset_index()\n",
    "frequency_scores.columns = ['customer_unique_id','Frequency']"
   ]
  },
  {
   "cell_type": "code",
   "execution_count": 82,
   "metadata": {},
   "outputs": [
    {
     "data": {
      "text/html": [
       "<div>\n",
       "<style scoped>\n",
       "    .dataframe tbody tr th:only-of-type {\n",
       "        vertical-align: middle;\n",
       "    }\n",
       "\n",
       "    .dataframe tbody tr th {\n",
       "        vertical-align: top;\n",
       "    }\n",
       "\n",
       "    .dataframe thead th {\n",
       "        text-align: right;\n",
       "    }\n",
       "</style>\n",
       "<table border=\"1\" class=\"dataframe\">\n",
       "  <thead>\n",
       "    <tr style=\"text-align: right;\">\n",
       "      <th></th>\n",
       "      <th>customer_unique_id</th>\n",
       "      <th>Frequency</th>\n",
       "    </tr>\n",
       "  </thead>\n",
       "  <tbody>\n",
       "    <tr>\n",
       "      <th>0</th>\n",
       "      <td>0000366f3b9a7992bf8c76cfdf3221e2</td>\n",
       "      <td>1</td>\n",
       "    </tr>\n",
       "    <tr>\n",
       "      <th>1</th>\n",
       "      <td>0000b849f77a49e4a4ce2b2a4ca5be3f</td>\n",
       "      <td>1</td>\n",
       "    </tr>\n",
       "    <tr>\n",
       "      <th>2</th>\n",
       "      <td>0000f46a3911fa3c0805444483337064</td>\n",
       "      <td>1</td>\n",
       "    </tr>\n",
       "    <tr>\n",
       "      <th>3</th>\n",
       "      <td>0000f6ccb0745a6a4b88665a16c9f078</td>\n",
       "      <td>1</td>\n",
       "    </tr>\n",
       "    <tr>\n",
       "      <th>4</th>\n",
       "      <td>0004aac84e0df4da2b147fca70cf8255</td>\n",
       "      <td>1</td>\n",
       "    </tr>\n",
       "  </tbody>\n",
       "</table>\n",
       "</div>"
      ],
      "text/plain": [
       "                 customer_unique_id  Frequency\n",
       "0  0000366f3b9a7992bf8c76cfdf3221e2          1\n",
       "1  0000b849f77a49e4a4ce2b2a4ca5be3f          1\n",
       "2  0000f46a3911fa3c0805444483337064          1\n",
       "3  0000f6ccb0745a6a4b88665a16c9f078          1\n",
       "4  0004aac84e0df4da2b147fca70cf8255          1"
      ]
     },
     "execution_count": 82,
     "metadata": {},
     "output_type": "execute_result"
    }
   ],
   "source": [
    "frequency_scores.head()"
   ]
  },
  {
   "cell_type": "code",
   "execution_count": 85,
   "metadata": {},
   "outputs": [],
   "source": [
    "## creating monetory scores\n",
    "monetory_scores = dataset.groupby('customer_unique_id').payment_value.sum().reset_index()\n",
    "monetory_scores.columns = ['customer_unique_id','Monetary']"
   ]
  },
  {
   "cell_type": "code",
   "execution_count": 86,
   "metadata": {},
   "outputs": [
    {
     "data": {
      "text/html": [
       "<div>\n",
       "<style scoped>\n",
       "    .dataframe tbody tr th:only-of-type {\n",
       "        vertical-align: middle;\n",
       "    }\n",
       "\n",
       "    .dataframe tbody tr th {\n",
       "        vertical-align: top;\n",
       "    }\n",
       "\n",
       "    .dataframe thead th {\n",
       "        text-align: right;\n",
       "    }\n",
       "</style>\n",
       "<table border=\"1\" class=\"dataframe\">\n",
       "  <thead>\n",
       "    <tr style=\"text-align: right;\">\n",
       "      <th></th>\n",
       "      <th>customer_unique_id</th>\n",
       "      <th>Monetary</th>\n",
       "    </tr>\n",
       "  </thead>\n",
       "  <tbody>\n",
       "    <tr>\n",
       "      <th>0</th>\n",
       "      <td>0000366f3b9a7992bf8c76cfdf3221e2</td>\n",
       "      <td>141.90</td>\n",
       "    </tr>\n",
       "    <tr>\n",
       "      <th>1</th>\n",
       "      <td>0000b849f77a49e4a4ce2b2a4ca5be3f</td>\n",
       "      <td>27.19</td>\n",
       "    </tr>\n",
       "    <tr>\n",
       "      <th>2</th>\n",
       "      <td>0000f46a3911fa3c0805444483337064</td>\n",
       "      <td>86.22</td>\n",
       "    </tr>\n",
       "    <tr>\n",
       "      <th>3</th>\n",
       "      <td>0000f6ccb0745a6a4b88665a16c9f078</td>\n",
       "      <td>43.62</td>\n",
       "    </tr>\n",
       "    <tr>\n",
       "      <th>4</th>\n",
       "      <td>0004aac84e0df4da2b147fca70cf8255</td>\n",
       "      <td>196.89</td>\n",
       "    </tr>\n",
       "  </tbody>\n",
       "</table>\n",
       "</div>"
      ],
      "text/plain": [
       "                 customer_unique_id  Monetary\n",
       "0  0000366f3b9a7992bf8c76cfdf3221e2    141.90\n",
       "1  0000b849f77a49e4a4ce2b2a4ca5be3f     27.19\n",
       "2  0000f46a3911fa3c0805444483337064     86.22\n",
       "3  0000f6ccb0745a6a4b88665a16c9f078     43.62\n",
       "4  0004aac84e0df4da2b147fca70cf8255    196.89"
      ]
     },
     "execution_count": 86,
     "metadata": {},
     "output_type": "execute_result"
    }
   ],
   "source": [
    "monetory_scores.head()"
   ]
  },
  {
   "cell_type": "code",
   "execution_count": 88,
   "metadata": {},
   "outputs": [
    {
     "data": {
      "text/html": [
       "<div>\n",
       "<style scoped>\n",
       "    .dataframe tbody tr th:only-of-type {\n",
       "        vertical-align: middle;\n",
       "    }\n",
       "\n",
       "    .dataframe tbody tr th {\n",
       "        vertical-align: top;\n",
       "    }\n",
       "\n",
       "    .dataframe thead th {\n",
       "        text-align: right;\n",
       "    }\n",
       "</style>\n",
       "<table border=\"1\" class=\"dataframe\">\n",
       "  <thead>\n",
       "    <tr style=\"text-align: right;\">\n",
       "      <th></th>\n",
       "      <th>customer_unique_id</th>\n",
       "      <th>MaxPurchaseDate</th>\n",
       "      <th>Recency</th>\n",
       "      <th>Frequency</th>\n",
       "      <th>Monetary</th>\n",
       "    </tr>\n",
       "  </thead>\n",
       "  <tbody>\n",
       "    <tr>\n",
       "      <th>0</th>\n",
       "      <td>0000366f3b9a7992bf8c76cfdf3221e2</td>\n",
       "      <td>2018-05-10 10:56:27+00:00</td>\n",
       "      <td>111</td>\n",
       "      <td>1</td>\n",
       "      <td>141.90</td>\n",
       "    </tr>\n",
       "    <tr>\n",
       "      <th>1</th>\n",
       "      <td>0000b849f77a49e4a4ce2b2a4ca5be3f</td>\n",
       "      <td>2018-05-07 11:11:27+00:00</td>\n",
       "      <td>114</td>\n",
       "      <td>1</td>\n",
       "      <td>27.19</td>\n",
       "    </tr>\n",
       "    <tr>\n",
       "      <th>2</th>\n",
       "      <td>0000f46a3911fa3c0805444483337064</td>\n",
       "      <td>2017-03-10 21:05:03+00:00</td>\n",
       "      <td>536</td>\n",
       "      <td>1</td>\n",
       "      <td>86.22</td>\n",
       "    </tr>\n",
       "    <tr>\n",
       "      <th>3</th>\n",
       "      <td>0000f6ccb0745a6a4b88665a16c9f078</td>\n",
       "      <td>2017-10-12 20:29:41+00:00</td>\n",
       "      <td>320</td>\n",
       "      <td>1</td>\n",
       "      <td>43.62</td>\n",
       "    </tr>\n",
       "    <tr>\n",
       "      <th>4</th>\n",
       "      <td>0004aac84e0df4da2b147fca70cf8255</td>\n",
       "      <td>2017-11-14 19:45:42+00:00</td>\n",
       "      <td>287</td>\n",
       "      <td>1</td>\n",
       "      <td>196.89</td>\n",
       "    </tr>\n",
       "  </tbody>\n",
       "</table>\n",
       "</div>"
      ],
      "text/plain": [
       "                 customer_unique_id           MaxPurchaseDate  Recency  Frequency  Monetary\n",
       "0  0000366f3b9a7992bf8c76cfdf3221e2 2018-05-10 10:56:27+00:00      111          1    141.90\n",
       "1  0000b849f77a49e4a4ce2b2a4ca5be3f 2018-05-07 11:11:27+00:00      114          1     27.19\n",
       "2  0000f46a3911fa3c0805444483337064 2017-03-10 21:05:03+00:00      536          1     86.22\n",
       "3  0000f6ccb0745a6a4b88665a16c9f078 2017-10-12 20:29:41+00:00      320          1     43.62\n",
       "4  0004aac84e0df4da2b147fca70cf8255 2017-11-14 19:45:42+00:00      287          1    196.89"
      ]
     },
     "execution_count": 88,
     "metadata": {},
     "output_type": "execute_result"
    }
   ],
   "source": [
    "## creating rfm data frame - combing recency frequency monetory scores\n",
    "df_rfm = pd.merge(recency_scores, frequency_scores, on='customer_unique_id')\n",
    "df_rfm = pd.merge(df_rfm, monetory_scores, on='customer_unique_id')\n",
    "df_rfm.head()"
   ]
  },
  {
   "cell_type": "code",
   "execution_count": 93,
   "metadata": {},
   "outputs": [],
   "source": [
    "## standardizing the data\n",
    "rfm_r_log = np.log(df_rfm['Recency']+0.001) #can't take log(0) and so adding a small number when the recency is 0\n",
    "rfm_f_log = np.log(df_rfm['Frequency'])\n",
    "rfm_m_log = np.log(df_rfm['Monetary']+0.001) #can't take log(0) and so adding a small number when the recency is 0\n",
    "log_data = pd.DataFrame({'Monetary': rfm_m_log,'Recency': rfm_r_log,'Frequency': rfm_f_log})"
   ]
  },
  {
   "cell_type": "code",
   "execution_count": 90,
   "metadata": {},
   "outputs": [
    {
     "data": {
      "text/html": [
       "<div>\n",
       "<style scoped>\n",
       "    .dataframe tbody tr th:only-of-type {\n",
       "        vertical-align: middle;\n",
       "    }\n",
       "\n",
       "    .dataframe tbody tr th {\n",
       "        vertical-align: top;\n",
       "    }\n",
       "\n",
       "    .dataframe thead th {\n",
       "        text-align: right;\n",
       "    }\n",
       "</style>\n",
       "<table border=\"1\" class=\"dataframe\">\n",
       "  <thead>\n",
       "    <tr style=\"text-align: right;\">\n",
       "      <th></th>\n",
       "      <th>Monetary</th>\n",
       "      <th>Recency</th>\n",
       "      <th>Frequency</th>\n",
       "    </tr>\n",
       "  </thead>\n",
       "  <tbody>\n",
       "    <tr>\n",
       "      <th>0</th>\n",
       "      <td>4.955130</td>\n",
       "      <td>4.709539</td>\n",
       "      <td>0.0</td>\n",
       "    </tr>\n",
       "    <tr>\n",
       "      <th>1</th>\n",
       "      <td>3.302886</td>\n",
       "      <td>4.736207</td>\n",
       "      <td>0.0</td>\n",
       "    </tr>\n",
       "    <tr>\n",
       "      <th>2</th>\n",
       "      <td>4.456914</td>\n",
       "      <td>6.284136</td>\n",
       "      <td>0.0</td>\n",
       "    </tr>\n",
       "    <tr>\n",
       "      <th>3</th>\n",
       "      <td>3.775539</td>\n",
       "      <td>5.768324</td>\n",
       "      <td>0.0</td>\n",
       "    </tr>\n",
       "    <tr>\n",
       "      <th>4</th>\n",
       "      <td>5.282650</td>\n",
       "      <td>5.659486</td>\n",
       "      <td>0.0</td>\n",
       "    </tr>\n",
       "  </tbody>\n",
       "</table>\n",
       "</div>"
      ],
      "text/plain": [
       "   Monetary   Recency  Frequency\n",
       "0  4.955130  4.709539        0.0\n",
       "1  3.302886  4.736207        0.0\n",
       "2  4.456914  6.284136        0.0\n",
       "3  3.775539  5.768324        0.0\n",
       "4  5.282650  5.659486        0.0"
      ]
     },
     "execution_count": 90,
     "metadata": {},
     "output_type": "execute_result"
    }
   ],
   "source": [
    "log_data.head()"
   ]
  },
  {
   "cell_type": "code",
   "execution_count": 91,
   "metadata": {},
   "outputs": [
    {
     "data": {
      "text/plain": [
       "91610"
      ]
     },
     "execution_count": 91,
     "metadata": {},
     "output_type": "execute_result"
    }
   ],
   "source": [
    "len(log_data)"
   ]
  },
  {
   "cell_type": "markdown",
   "metadata": {},
   "source": [
    "## 5) Clustering Model"
   ]
  },
  {
   "cell_type": "markdown",
   "metadata": {},
   "source": [
    "# run k means on rfm scores & return array of clusters numbers\n",
    "# assign these cluster number back to each customer unique id\n",
    "\n"
   ]
  },
  {
   "cell_type": "code",
   "execution_count": null,
   "metadata": {},
   "outputs": [],
   "source": []
  }
 ],
 "metadata": {
  "kernelspec": {
   "display_name": "conda_python3",
   "language": "python",
   "name": "conda_python3"
  },
  "language_info": {
   "codemirror_mode": {
    "name": "ipython",
    "version": 3
   },
   "file_extension": ".py",
   "mimetype": "text/x-python",
   "name": "python",
   "nbconvert_exporter": "python",
   "pygments_lexer": "ipython3",
   "version": "3.6.5"
  }
 },
 "nbformat": 4,
 "nbformat_minor": 4
}
